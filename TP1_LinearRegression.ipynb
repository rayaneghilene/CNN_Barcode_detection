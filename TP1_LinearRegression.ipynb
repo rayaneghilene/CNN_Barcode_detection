{
  "cells": [
    {
      "cell_type": "markdown",
      "metadata": {
        "id": "view-in-github",
        "colab_type": "text"
      },
      "source": [
        "<a href=\"https://colab.research.google.com/github/rayaneghilene/CNN_Barcode_detection/blob/main/TP1_LinearRegression.ipynb\" target=\"_parent\"><img src=\"https://colab.research.google.com/assets/colab-badge.svg\" alt=\"Open In Colab\"/></a>"
      ]
    },
    {
      "cell_type": "markdown",
      "metadata": {
        "id": "fitv0OOcAwUV"
      },
      "source": [
        "# TP: Machine Learning (SIA_3611)\n",
        "\n",
        "## TP1: Linear Regression (4h)\n",
        "\n",
        "by Clément Bouvier\n",
        "\n",
        "Linear regression is a family of machine learning algorithms aiming at adjusting a linear model to an ensemble of data. The applications range from signal reconstruction to empirical description.\n",
        "\n",
        "The given dataset was produced by the World Health Organization. It pooled the evolution of 20 features for 15 years and among numerous countries. One of the goals of this TP1 is to manipulate this dataset and try to predict the evolution of Life Expectancy through different variables.\n",
        "\n",
        "**Objectives:**\n",
        "- Use and setup an iPython environment\n",
        "- Manipulate and visualize data\n",
        "- Implement a simple linear regression\n",
        "- Apply the aforementioned linear regression\n",
        "- Compute a $R^2$ on the generated results\n",
        "- Apply Ridge and Lasso regressions\n"
      ]
    },
    {
      "cell_type": "markdown",
      "metadata": {
        "id": "zByLC3qEH6Tz"
      },
      "source": [
        "## STEP 1: Use and setup an iPython environment"
      ]
    },
    {
      "cell_type": "markdown",
      "metadata": {
        "id": "JFtU-3tJK23k"
      },
      "source": [
        "iPython and Notebook environments are useful tools to quickly prototype and test machine learning solutions. However, they have limitations especially in RAM and disk access."
      ]
    },
    {
      "cell_type": "markdown",
      "metadata": {
        "id": "Ko9W3iTnIISS"
      },
      "source": [
        "**TO DO 1.1**\n",
        "\n",
        "Execute the following cells"
      ]
    },
    {
      "cell_type": "code",
      "execution_count": 1,
      "metadata": {
        "id": "H8SLi4uEBG3K"
      },
      "outputs": [],
      "source": [
        "a = 3\n",
        "b = 4\n",
        "c = a + b"
      ]
    },
    {
      "cell_type": "code",
      "execution_count": 2,
      "metadata": {
        "id": "8hM_aMdCIvZK"
      },
      "outputs": [],
      "source": [
        "c = c"
      ]
    },
    {
      "cell_type": "code",
      "execution_count": 3,
      "metadata": {
        "id": "YqOVDV_7ISXN",
        "colab": {
          "base_uri": "https://localhost:8080/"
        },
        "outputId": "85a15bfc-f489-49f8-e902-231f9dfa78ca"
      },
      "outputs": [
        {
          "output_type": "stream",
          "name": "stdout",
          "text": [
            "7\n"
          ]
        }
      ],
      "source": [
        "print(c)"
      ]
    },
    {
      "cell_type": "code",
      "execution_count": 4,
      "metadata": {
        "id": "bSy3G2LbFH5q",
        "colab": {
          "base_uri": "https://localhost:8080/"
        },
        "outputId": "e8bede00-8fe9-4a78-97ef-57ca881f7bb5"
      },
      "outputs": [
        {
          "output_type": "execute_result",
          "data": {
            "text/plain": [
              "7"
            ]
          },
          "metadata": {},
          "execution_count": 4
        }
      ],
      "source": [
        "c"
      ]
    },
    {
      "cell_type": "markdown",
      "metadata": {
        "id": "7ToVYPUPI0ib"
      },
      "source": [
        "**QUESTION 1**\n",
        "\n",
        "What is triggering the output display?\n",
        "\n",
        "\n",
        "*The output us displayed by either the Print() Function or by just calling the variable itself*"
      ]
    },
    {
      "cell_type": "markdown",
      "metadata": {
        "id": "04BeCMcuKDpj"
      },
      "source": [
        "**TO DO 1.2**\n",
        "\n",
        "Execute the following cells"
      ]
    },
    {
      "cell_type": "code",
      "execution_count": 12,
      "metadata": {
        "id": "jwKMM5ofJZL3"
      },
      "outputs": [],
      "source": [
        "import shutil\n",
        "import pkgutil\n",
        "\n",
        "def show_acceptable_modules():\n",
        "    line = '-' * 100\n",
        "    print('{}\\n{:^30}|{:^20}\\n{}'.format(line, 'Module', 'Location', line))\n",
        "    for entry in pkgutil.iter_modules():\n",
        "        print('{:30}| {}'.format(entry[1], entry[0].path))"
      ]
    },
    {
      "cell_type": "code",
      "execution_count": 13,
      "metadata": {
        "id": "D0hybzmjKI0P",
        "colab": {
          "base_uri": "https://localhost:8080/"
        },
        "outputId": "e191b4aa-79a3-4022-a9de-ed9d0ef8b29d"
      },
      "outputs": [
        {
          "output_type": "stream",
          "name": "stdout",
          "text": [
            "----------------------------------------------------------------------------------------------------\n",
            "            Module            |      Location      \n",
            "----------------------------------------------------------------------------------------------------\n",
            "__future__                    | /usr/lib/python3.10\n",
            "_aix_support                  | /usr/lib/python3.10\n",
            "_bootsubprocess               | /usr/lib/python3.10\n",
            "_collections_abc              | /usr/lib/python3.10\n",
            "_compat_pickle                | /usr/lib/python3.10\n",
            "_compression                  | /usr/lib/python3.10\n",
            "_distutils_system_mod         | /usr/lib/python3.10\n",
            "_markupbase                   | /usr/lib/python3.10\n",
            "_osx_support                  | /usr/lib/python3.10\n",
            "_py_abc                       | /usr/lib/python3.10\n",
            "_pydecimal                    | /usr/lib/python3.10\n",
            "_pyio                         | /usr/lib/python3.10\n",
            "_sitebuiltins                 | /usr/lib/python3.10\n",
            "_strptime                     | /usr/lib/python3.10\n",
            "_sysconfigdata__linux_x86_64-linux-gnu| /usr/lib/python3.10\n",
            "_sysconfigdata__x86_64-linux-gnu| /usr/lib/python3.10\n",
            "_threading_local              | /usr/lib/python3.10\n",
            "_weakrefset                   | /usr/lib/python3.10\n",
            "abc                           | /usr/lib/python3.10\n",
            "aifc                          | /usr/lib/python3.10\n",
            "antigravity                   | /usr/lib/python3.10\n",
            "argparse                      | /usr/lib/python3.10\n",
            "ast                           | /usr/lib/python3.10\n",
            "asynchat                      | /usr/lib/python3.10\n",
            "asyncio                       | /usr/lib/python3.10\n",
            "asyncore                      | /usr/lib/python3.10\n",
            "base64                        | /usr/lib/python3.10\n",
            "bdb                           | /usr/lib/python3.10\n",
            "binhex                        | /usr/lib/python3.10\n",
            "bisect                        | /usr/lib/python3.10\n",
            "bz2                           | /usr/lib/python3.10\n",
            "cProfile                      | /usr/lib/python3.10\n",
            "calendar                      | /usr/lib/python3.10\n",
            "cgi                           | /usr/lib/python3.10\n",
            "cgitb                         | /usr/lib/python3.10\n",
            "chunk                         | /usr/lib/python3.10\n",
            "cmd                           | /usr/lib/python3.10\n",
            "code                          | /usr/lib/python3.10\n",
            "codecs                        | /usr/lib/python3.10\n",
            "codeop                        | /usr/lib/python3.10\n",
            "collections                   | /usr/lib/python3.10\n",
            "colorsys                      | /usr/lib/python3.10\n",
            "compileall                    | /usr/lib/python3.10\n",
            "concurrent                    | /usr/lib/python3.10\n",
            "configparser                  | /usr/lib/python3.10\n",
            "contextlib                    | /usr/lib/python3.10\n",
            "contextvars                   | /usr/lib/python3.10\n",
            "copy                          | /usr/lib/python3.10\n",
            "copyreg                       | /usr/lib/python3.10\n",
            "crypt                         | /usr/lib/python3.10\n",
            "csv                           | /usr/lib/python3.10\n",
            "ctypes                        | /usr/lib/python3.10\n",
            "curses                        | /usr/lib/python3.10\n",
            "dataclasses                   | /usr/lib/python3.10\n",
            "datetime                      | /usr/lib/python3.10\n",
            "dbm                           | /usr/lib/python3.10\n",
            "decimal                       | /usr/lib/python3.10\n",
            "difflib                       | /usr/lib/python3.10\n",
            "dis                           | /usr/lib/python3.10\n",
            "distutils                     | /usr/lib/python3.10\n",
            "doctest                       | /usr/lib/python3.10\n",
            "email                         | /usr/lib/python3.10\n",
            "encodings                     | /usr/lib/python3.10\n",
            "enum                          | /usr/lib/python3.10\n",
            "filecmp                       | /usr/lib/python3.10\n",
            "fileinput                     | /usr/lib/python3.10\n",
            "fnmatch                       | /usr/lib/python3.10\n",
            "fractions                     | /usr/lib/python3.10\n",
            "ftplib                        | /usr/lib/python3.10\n",
            "functools                     | /usr/lib/python3.10\n",
            "genericpath                   | /usr/lib/python3.10\n",
            "getopt                        | /usr/lib/python3.10\n",
            "getpass                       | /usr/lib/python3.10\n",
            "gettext                       | /usr/lib/python3.10\n",
            "glob                          | /usr/lib/python3.10\n",
            "graphlib                      | /usr/lib/python3.10\n",
            "gzip                          | /usr/lib/python3.10\n",
            "hashlib                       | /usr/lib/python3.10\n",
            "heapq                         | /usr/lib/python3.10\n",
            "hmac                          | /usr/lib/python3.10\n",
            "html                          | /usr/lib/python3.10\n",
            "http                          | /usr/lib/python3.10\n",
            "imaplib                       | /usr/lib/python3.10\n",
            "imghdr                        | /usr/lib/python3.10\n",
            "imp                           | /usr/lib/python3.10\n",
            "importlib                     | /usr/lib/python3.10\n",
            "inspect                       | /usr/lib/python3.10\n",
            "io                            | /usr/lib/python3.10\n",
            "ipaddress                     | /usr/lib/python3.10\n",
            "json                          | /usr/lib/python3.10\n",
            "keyword                       | /usr/lib/python3.10\n",
            "lib2to3                       | /usr/lib/python3.10\n",
            "linecache                     | /usr/lib/python3.10\n",
            "locale                        | /usr/lib/python3.10\n",
            "logging                       | /usr/lib/python3.10\n",
            "lzma                          | /usr/lib/python3.10\n",
            "mailbox                       | /usr/lib/python3.10\n",
            "mailcap                       | /usr/lib/python3.10\n",
            "mimetypes                     | /usr/lib/python3.10\n",
            "modulefinder                  | /usr/lib/python3.10\n",
            "multiprocessing               | /usr/lib/python3.10\n",
            "netrc                         | /usr/lib/python3.10\n",
            "nntplib                       | /usr/lib/python3.10\n",
            "ntpath                        | /usr/lib/python3.10\n",
            "nturl2path                    | /usr/lib/python3.10\n",
            "numbers                       | /usr/lib/python3.10\n",
            "opcode                        | /usr/lib/python3.10\n",
            "operator                      | /usr/lib/python3.10\n",
            "optparse                      | /usr/lib/python3.10\n",
            "os                            | /usr/lib/python3.10\n",
            "pathlib                       | /usr/lib/python3.10\n",
            "pdb                           | /usr/lib/python3.10\n",
            "pickle                        | /usr/lib/python3.10\n",
            "pickletools                   | /usr/lib/python3.10\n",
            "pipes                         | /usr/lib/python3.10\n",
            "pkgutil                       | /usr/lib/python3.10\n",
            "platform                      | /usr/lib/python3.10\n",
            "plistlib                      | /usr/lib/python3.10\n",
            "poplib                        | /usr/lib/python3.10\n",
            "posixpath                     | /usr/lib/python3.10\n",
            "pprint                        | /usr/lib/python3.10\n",
            "profile                       | /usr/lib/python3.10\n",
            "pstats                        | /usr/lib/python3.10\n",
            "pty                           | /usr/lib/python3.10\n",
            "py_compile                    | /usr/lib/python3.10\n",
            "pyclbr                        | /usr/lib/python3.10\n",
            "pydoc                         | /usr/lib/python3.10\n",
            "pydoc_data                    | /usr/lib/python3.10\n",
            "queue                         | /usr/lib/python3.10\n",
            "quopri                        | /usr/lib/python3.10\n",
            "random                        | /usr/lib/python3.10\n",
            "re                            | /usr/lib/python3.10\n",
            "reprlib                       | /usr/lib/python3.10\n",
            "rlcompleter                   | /usr/lib/python3.10\n",
            "runpy                         | /usr/lib/python3.10\n",
            "sched                         | /usr/lib/python3.10\n",
            "secrets                       | /usr/lib/python3.10\n",
            "selectors                     | /usr/lib/python3.10\n",
            "shelve                        | /usr/lib/python3.10\n",
            "shlex                         | /usr/lib/python3.10\n",
            "shutil                        | /usr/lib/python3.10\n",
            "signal                        | /usr/lib/python3.10\n",
            "site                          | /usr/lib/python3.10\n",
            "sitecustomize                 | /usr/lib/python3.10\n",
            "smtpd                         | /usr/lib/python3.10\n",
            "smtplib                       | /usr/lib/python3.10\n",
            "sndhdr                        | /usr/lib/python3.10\n",
            "socket                        | /usr/lib/python3.10\n",
            "socketserver                  | /usr/lib/python3.10\n",
            "sqlite3                       | /usr/lib/python3.10\n",
            "sre_compile                   | /usr/lib/python3.10\n",
            "sre_constants                 | /usr/lib/python3.10\n",
            "sre_parse                     | /usr/lib/python3.10\n",
            "ssl                           | /usr/lib/python3.10\n",
            "stat                          | /usr/lib/python3.10\n",
            "statistics                    | /usr/lib/python3.10\n",
            "string                        | /usr/lib/python3.10\n",
            "stringprep                    | /usr/lib/python3.10\n",
            "struct                        | /usr/lib/python3.10\n",
            "subprocess                    | /usr/lib/python3.10\n",
            "sunau                         | /usr/lib/python3.10\n",
            "symtable                      | /usr/lib/python3.10\n",
            "sysconfig                     | /usr/lib/python3.10\n",
            "tabnanny                      | /usr/lib/python3.10\n",
            "tarfile                       | /usr/lib/python3.10\n",
            "telnetlib                     | /usr/lib/python3.10\n",
            "tempfile                      | /usr/lib/python3.10\n",
            "test                          | /usr/lib/python3.10\n",
            "textwrap                      | /usr/lib/python3.10\n",
            "this                          | /usr/lib/python3.10\n",
            "threading                     | /usr/lib/python3.10\n",
            "timeit                        | /usr/lib/python3.10\n",
            "tkinter                       | /usr/lib/python3.10\n",
            "token                         | /usr/lib/python3.10\n",
            "tokenize                      | /usr/lib/python3.10\n",
            "trace                         | /usr/lib/python3.10\n",
            "traceback                     | /usr/lib/python3.10\n",
            "tracemalloc                   | /usr/lib/python3.10\n",
            "tty                           | /usr/lib/python3.10\n",
            "turtle                        | /usr/lib/python3.10\n",
            "types                         | /usr/lib/python3.10\n",
            "typing                        | /usr/lib/python3.10\n",
            "unittest                      | /usr/lib/python3.10\n",
            "urllib                        | /usr/lib/python3.10\n",
            "uu                            | /usr/lib/python3.10\n",
            "uuid                          | /usr/lib/python3.10\n",
            "venv                          | /usr/lib/python3.10\n",
            "warnings                      | /usr/lib/python3.10\n",
            "wave                          | /usr/lib/python3.10\n",
            "weakref                       | /usr/lib/python3.10\n",
            "webbrowser                    | /usr/lib/python3.10\n",
            "wsgiref                       | /usr/lib/python3.10\n",
            "xdrlib                        | /usr/lib/python3.10\n",
            "xml                           | /usr/lib/python3.10\n",
            "xmlrpc                        | /usr/lib/python3.10\n",
            "zipapp                        | /usr/lib/python3.10\n",
            "zipfile                       | /usr/lib/python3.10\n",
            "zipimport                     | /usr/lib/python3.10\n",
            "zoneinfo                      | /usr/lib/python3.10\n",
            "_asyncio                      | /usr/lib/python3.10/lib-dynload\n",
            "_bz2                          | /usr/lib/python3.10/lib-dynload\n",
            "_codecs_cn                    | /usr/lib/python3.10/lib-dynload\n",
            "_codecs_hk                    | /usr/lib/python3.10/lib-dynload\n",
            "_codecs_iso2022               | /usr/lib/python3.10/lib-dynload\n",
            "_codecs_jp                    | /usr/lib/python3.10/lib-dynload\n",
            "_codecs_kr                    | /usr/lib/python3.10/lib-dynload\n",
            "_codecs_tw                    | /usr/lib/python3.10/lib-dynload\n",
            "_contextvars                  | /usr/lib/python3.10/lib-dynload\n",
            "_crypt                        | /usr/lib/python3.10/lib-dynload\n",
            "_ctypes                       | /usr/lib/python3.10/lib-dynload\n",
            "_ctypes_test                  | /usr/lib/python3.10/lib-dynload\n",
            "_curses                       | /usr/lib/python3.10/lib-dynload\n",
            "_curses_panel                 | /usr/lib/python3.10/lib-dynload\n",
            "_dbm                          | /usr/lib/python3.10/lib-dynload\n",
            "_decimal                      | /usr/lib/python3.10/lib-dynload\n",
            "_hashlib                      | /usr/lib/python3.10/lib-dynload\n",
            "_json                         | /usr/lib/python3.10/lib-dynload\n",
            "_lsprof                       | /usr/lib/python3.10/lib-dynload\n",
            "_lzma                         | /usr/lib/python3.10/lib-dynload\n",
            "_multibytecodec               | /usr/lib/python3.10/lib-dynload\n",
            "_multiprocessing              | /usr/lib/python3.10/lib-dynload\n",
            "_opcode                       | /usr/lib/python3.10/lib-dynload\n",
            "_posixshmem                   | /usr/lib/python3.10/lib-dynload\n",
            "_queue                        | /usr/lib/python3.10/lib-dynload\n",
            "_sqlite3                      | /usr/lib/python3.10/lib-dynload\n",
            "_ssl                          | /usr/lib/python3.10/lib-dynload\n",
            "_testbuffer                   | /usr/lib/python3.10/lib-dynload\n",
            "_testcapi                     | /usr/lib/python3.10/lib-dynload\n",
            "_testclinic                   | /usr/lib/python3.10/lib-dynload\n",
            "_testimportmultiple           | /usr/lib/python3.10/lib-dynload\n",
            "_testinternalcapi             | /usr/lib/python3.10/lib-dynload\n",
            "_testmultiphase               | /usr/lib/python3.10/lib-dynload\n",
            "_tkinter                      | /usr/lib/python3.10/lib-dynload\n",
            "_uuid                         | /usr/lib/python3.10/lib-dynload\n",
            "_xxsubinterpreters            | /usr/lib/python3.10/lib-dynload\n",
            "_xxtestfuzz                   | /usr/lib/python3.10/lib-dynload\n",
            "_zoneinfo                     | /usr/lib/python3.10/lib-dynload\n",
            "audioop                       | /usr/lib/python3.10/lib-dynload\n",
            "mmap                          | /usr/lib/python3.10/lib-dynload\n",
            "nis                           | /usr/lib/python3.10/lib-dynload\n",
            "ossaudiodev                   | /usr/lib/python3.10/lib-dynload\n",
            "readline                      | /usr/lib/python3.10/lib-dynload\n",
            "resource                      | /usr/lib/python3.10/lib-dynload\n",
            "termios                       | /usr/lib/python3.10/lib-dynload\n",
            "xxlimited                     | /usr/lib/python3.10/lib-dynload\n",
            "xxlimited_35                  | /usr/lib/python3.10/lib-dynload\n",
            "Cython                        | /usr/local/lib/python3.10/dist-packages\n",
            "IPython                       | /usr/local/lib/python3.10/dist-packages\n",
            "OpenGL                        | /usr/local/lib/python3.10/dist-packages\n",
            "OpenSSL                       | /usr/local/lib/python3.10/dist-packages\n",
            "PIL                           | /usr/local/lib/python3.10/dist-packages\n",
            "_argon2_cffi_bindings         | /usr/local/lib/python3.10/dist-packages\n",
            "_cffi_backend                 | /usr/local/lib/python3.10/dist-packages\n",
            "_cvxcore                      | /usr/local/lib/python3.10/dist-packages\n",
            "_distutils_hack               | /usr/local/lib/python3.10/dist-packages\n",
            "_dlib_pybind11                | /usr/local/lib/python3.10/dist-packages\n",
            "_ecos                         | /usr/local/lib/python3.10/dist-packages\n",
            "_plotly_future_               | /usr/local/lib/python3.10/dist-packages\n",
            "_plotly_utils                 | /usr/local/lib/python3.10/dist-packages\n",
            "_pytest                       | /usr/local/lib/python3.10/dist-packages\n",
            "_rinterface_cffi_abi          | /usr/local/lib/python3.10/dist-packages\n",
            "_rinterface_cffi_api          | /usr/local/lib/python3.10/dist-packages\n",
            "_scs_direct                   | /usr/local/lib/python3.10/dist-packages\n",
            "_scs_indirect                 | /usr/local/lib/python3.10/dist-packages\n",
            "_soundfile                    | /usr/local/lib/python3.10/dist-packages\n",
            "_soundfile_data               | /usr/local/lib/python3.10/dist-packages\n",
            "_yaml                         | /usr/local/lib/python3.10/dist-packages\n",
            "absl                          | /usr/local/lib/python3.10/dist-packages\n",
            "aiohttp                       | /usr/local/lib/python3.10/dist-packages\n",
            "aiosignal                     | /usr/local/lib/python3.10/dist-packages\n",
            "alabaster                     | /usr/local/lib/python3.10/dist-packages\n",
            "albumentations                | /usr/local/lib/python3.10/dist-packages\n",
            "altair                        | /usr/local/lib/python3.10/dist-packages\n",
            "anyio                         | /usr/local/lib/python3.10/dist-packages\n",
            "apiclient                     | /usr/local/lib/python3.10/dist-packages\n",
            "appdirs                       | /usr/local/lib/python3.10/dist-packages\n",
            "apt                           | /usr/local/lib/python3.10/dist-packages\n",
            "apt_inst                      | /usr/local/lib/python3.10/dist-packages\n",
            "apt_pkg                       | /usr/local/lib/python3.10/dist-packages\n",
            "aptsources                    | /usr/local/lib/python3.10/dist-packages\n",
            "argon2                        | /usr/local/lib/python3.10/dist-packages\n",
            "array_record                  | /usr/local/lib/python3.10/dist-packages\n",
            "arviz                         | /usr/local/lib/python3.10/dist-packages\n",
            "astropy                       | /usr/local/lib/python3.10/dist-packages\n",
            "astunparse                    | /usr/local/lib/python3.10/dist-packages\n",
            "async_timeout                 | /usr/local/lib/python3.10/dist-packages\n",
            "attr                          | /usr/local/lib/python3.10/dist-packages\n",
            "attrs                         | /usr/local/lib/python3.10/dist-packages\n",
            "audioread                     | /usr/local/lib/python3.10/dist-packages\n",
            "autograd                      | /usr/local/lib/python3.10/dist-packages\n",
            "babel                         | /usr/local/lib/python3.10/dist-packages\n",
            "backcall                      | /usr/local/lib/python3.10/dist-packages\n",
            "bin                           | /usr/local/lib/python3.10/dist-packages\n",
            "bleach                        | /usr/local/lib/python3.10/dist-packages\n",
            "blis                          | /usr/local/lib/python3.10/dist-packages\n",
            "blosc2                        | /usr/local/lib/python3.10/dist-packages\n",
            "bokeh                         | /usr/local/lib/python3.10/dist-packages\n",
            "box                           | /usr/local/lib/python3.10/dist-packages\n",
            "bqplot                        | /usr/local/lib/python3.10/dist-packages\n",
            "branca                        | /usr/local/lib/python3.10/dist-packages\n",
            "bs4                           | /usr/local/lib/python3.10/dist-packages\n",
            "build                         | /usr/local/lib/python3.10/dist-packages\n",
            "cachecontrol                  | /usr/local/lib/python3.10/dist-packages\n",
            "cachetools                    | /usr/local/lib/python3.10/dist-packages\n",
            "catalogue                     | /usr/local/lib/python3.10/dist-packages\n",
            "certifi                       | /usr/local/lib/python3.10/dist-packages\n",
            "cffi                          | /usr/local/lib/python3.10/dist-packages\n",
            "chardet                       | /usr/local/lib/python3.10/dist-packages\n",
            "charset_normalizer            | /usr/local/lib/python3.10/dist-packages\n",
            "chex                          | /usr/local/lib/python3.10/dist-packages\n",
            "clang                         | /usr/local/lib/python3.10/dist-packages\n",
            "click                         | /usr/local/lib/python3.10/dist-packages\n",
            "click_plugins                 | /usr/local/lib/python3.10/dist-packages\n",
            "cligj                         | /usr/local/lib/python3.10/dist-packages\n",
            "cloudpickle                   | /usr/local/lib/python3.10/dist-packages\n",
            "cmake                         | /usr/local/lib/python3.10/dist-packages\n",
            "cmdstanpy                     | /usr/local/lib/python3.10/dist-packages\n",
            "colorcet                      | /usr/local/lib/python3.10/dist-packages\n",
            "colorlover                    | /usr/local/lib/python3.10/dist-packages\n",
            "colour                        | /usr/local/lib/python3.10/dist-packages\n",
            "community                     | /usr/local/lib/python3.10/dist-packages\n",
            "confection                    | /usr/local/lib/python3.10/dist-packages\n",
            "cons                          | /usr/local/lib/python3.10/dist-packages\n",
            "contextlib2                   | /usr/local/lib/python3.10/dist-packages\n",
            "contourpy                     | /usr/local/lib/python3.10/dist-packages\n",
            "convertdate                   | /usr/local/lib/python3.10/dist-packages\n",
            "cpuinfo                       | /usr/local/lib/python3.10/dist-packages\n",
            "cryptography                  | /usr/local/lib/python3.10/dist-packages\n",
            "cufflinks                     | /usr/local/lib/python3.10/dist-packages\n",
            "cv2                           | /usr/local/lib/python3.10/dist-packages\n",
            "cvxopt                        | /usr/local/lib/python3.10/dist-packages\n",
            "cvxpy                         | /usr/local/lib/python3.10/dist-packages\n",
            "cycler                        | /usr/local/lib/python3.10/dist-packages\n",
            "cymem                         | /usr/local/lib/python3.10/dist-packages\n",
            "cython                        | /usr/local/lib/python3.10/dist-packages\n",
            "dask                          | /usr/local/lib/python3.10/dist-packages\n",
            "datascience                   | /usr/local/lib/python3.10/dist-packages\n",
            "dateutil                      | /usr/local/lib/python3.10/dist-packages\n",
            "db_dtypes                     | /usr/local/lib/python3.10/dist-packages\n",
            "debugpy                       | /usr/local/lib/python3.10/dist-packages\n",
            "decorator                     | /usr/local/lib/python3.10/dist-packages\n",
            "defusedxml                    | /usr/local/lib/python3.10/dist-packages\n",
            "distributed                   | /usr/local/lib/python3.10/dist-packages\n",
            "dlib                          | /usr/local/lib/python3.10/dist-packages\n",
            "docutils                      | /usr/local/lib/python3.10/dist-packages\n",
            "dopamine                      | /usr/local/lib/python3.10/dist-packages\n",
            "dot_parser                    | /usr/local/lib/python3.10/dist-packages\n",
            "duckdb                        | /usr/local/lib/python3.10/dist-packages\n",
            "easydict                      | /usr/local/lib/python3.10/dist-packages\n",
            "ecos                          | /usr/local/lib/python3.10/dist-packages\n",
            "editdistance                  | /usr/local/lib/python3.10/dist-packages\n",
            "ee                            | /usr/local/lib/python3.10/dist-packages\n",
            "eerepr                        | /usr/local/lib/python3.10/dist-packages\n",
            "en_core_web_sm                | /usr/local/lib/python3.10/dist-packages\n",
            "entrypoints                   | /usr/local/lib/python3.10/dist-packages\n",
            "ephem                         | /usr/local/lib/python3.10/dist-packages\n",
            "erfa                          | /usr/local/lib/python3.10/dist-packages\n",
            "et_xmlfile                    | /usr/local/lib/python3.10/dist-packages\n",
            "etils                         | /usr/local/lib/python3.10/dist-packages\n",
            "etuples                       | /usr/local/lib/python3.10/dist-packages\n",
            "exceptiongroup                | /usr/local/lib/python3.10/dist-packages\n",
            "fastai                        | /usr/local/lib/python3.10/dist-packages\n",
            "fastcore                      | /usr/local/lib/python3.10/dist-packages\n",
            "fastdownload                  | /usr/local/lib/python3.10/dist-packages\n",
            "fastjsonschema                | /usr/local/lib/python3.10/dist-packages\n",
            "fastprogress                  | /usr/local/lib/python3.10/dist-packages\n",
            "fastrlock                     | /usr/local/lib/python3.10/dist-packages\n",
            "filelock                      | /usr/local/lib/python3.10/dist-packages\n",
            "fiona                         | /usr/local/lib/python3.10/dist-packages\n",
            "firebase_admin                | /usr/local/lib/python3.10/dist-packages\n",
            "flask                         | /usr/local/lib/python3.10/dist-packages\n",
            "flatbuffers                   | /usr/local/lib/python3.10/dist-packages\n",
            "flax                          | /usr/local/lib/python3.10/dist-packages\n",
            "folium                        | /usr/local/lib/python3.10/dist-packages\n",
            "fontTools                     | /usr/local/lib/python3.10/dist-packages\n",
            "frozendict                    | /usr/local/lib/python3.10/dist-packages\n",
            "frozenlist                    | /usr/local/lib/python3.10/dist-packages\n",
            "fsspec                        | /usr/local/lib/python3.10/dist-packages\n",
            "functorch                     | /usr/local/lib/python3.10/dist-packages\n",
            "future                        | /usr/local/lib/python3.10/dist-packages\n",
            "gast                          | /usr/local/lib/python3.10/dist-packages\n",
            "gcsfs                         | /usr/local/lib/python3.10/dist-packages\n",
            "gdown                         | /usr/local/lib/python3.10/dist-packages\n",
            "geemap                        | /usr/local/lib/python3.10/dist-packages\n",
            "gensim                        | /usr/local/lib/python3.10/dist-packages\n",
            "geocoder                      | /usr/local/lib/python3.10/dist-packages\n",
            "geographiclib                 | /usr/local/lib/python3.10/dist-packages\n",
            "geopandas                     | /usr/local/lib/python3.10/dist-packages\n",
            "geopy                         | /usr/local/lib/python3.10/dist-packages\n",
            "gin                           | /usr/local/lib/python3.10/dist-packages\n",
            "glob2                         | /usr/local/lib/python3.10/dist-packages\n",
            "google_auth_httplib2          | /usr/local/lib/python3.10/dist-packages\n",
            "google_auth_oauthlib          | /usr/local/lib/python3.10/dist-packages\n",
            "google_crc32c                 | /usr/local/lib/python3.10/dist-packages\n",
            "google_drive_downloader       | /usr/local/lib/python3.10/dist-packages\n",
            "googleapiclient               | /usr/local/lib/python3.10/dist-packages\n",
            "googlesearch                  | /usr/local/lib/python3.10/dist-packages\n",
            "graphviz                      | /usr/local/lib/python3.10/dist-packages\n",
            "greenlet                      | /usr/local/lib/python3.10/dist-packages\n",
            "grpc                          | /usr/local/lib/python3.10/dist-packages\n",
            "grpc_status                   | /usr/local/lib/python3.10/dist-packages\n",
            "gspread                       | /usr/local/lib/python3.10/dist-packages\n",
            "gspread_dataframe             | /usr/local/lib/python3.10/dist-packages\n",
            "gym                           | /usr/local/lib/python3.10/dist-packages\n",
            "gym_notices                   | /usr/local/lib/python3.10/dist-packages\n",
            "h5netcdf                      | /usr/local/lib/python3.10/dist-packages\n",
            "h5py                          | /usr/local/lib/python3.10/dist-packages\n",
            "holidays                      | /usr/local/lib/python3.10/dist-packages\n",
            "holoviews                     | /usr/local/lib/python3.10/dist-packages\n",
            "html5lib                      | /usr/local/lib/python3.10/dist-packages\n",
            "httpimport                    | /usr/local/lib/python3.10/dist-packages\n",
            "httplib2                      | /usr/local/lib/python3.10/dist-packages\n",
            "humanize                      | /usr/local/lib/python3.10/dist-packages\n",
            "hyperopt                      | /usr/local/lib/python3.10/dist-packages\n",
            "idna                          | /usr/local/lib/python3.10/dist-packages\n",
            "imageio                       | /usr/local/lib/python3.10/dist-packages\n",
            "imageio_ffmpeg                | /usr/local/lib/python3.10/dist-packages\n",
            "imagesize                     | /usr/local/lib/python3.10/dist-packages\n",
            "imblearn                      | /usr/local/lib/python3.10/dist-packages\n",
            "imgaug                        | /usr/local/lib/python3.10/dist-packages\n",
            "importlib_metadata            | /usr/local/lib/python3.10/dist-packages\n",
            "importlib_resources           | /usr/local/lib/python3.10/dist-packages\n",
            "imutils                       | /usr/local/lib/python3.10/dist-packages\n",
            "inflect                       | /usr/local/lib/python3.10/dist-packages\n",
            "iniconfig                     | /usr/local/lib/python3.10/dist-packages\n",
            "ipyevents                     | /usr/local/lib/python3.10/dist-packages\n",
            "ipyfilechooser                | /usr/local/lib/python3.10/dist-packages\n",
            "ipykernel                     | /usr/local/lib/python3.10/dist-packages\n",
            "ipykernel_launcher            | /usr/local/lib/python3.10/dist-packages\n",
            "ipyleaflet                    | /usr/local/lib/python3.10/dist-packages\n",
            "ipython_genutils              | /usr/local/lib/python3.10/dist-packages\n",
            "ipytree                       | /usr/local/lib/python3.10/dist-packages\n",
            "ipywidgets                    | /usr/local/lib/python3.10/dist-packages\n",
            "isympy                        | /usr/local/lib/python3.10/dist-packages\n",
            "itsdangerous                  | /usr/local/lib/python3.10/dist-packages\n",
            "jax                           | /usr/local/lib/python3.10/dist-packages\n",
            "jaxlib                        | /usr/local/lib/python3.10/dist-packages\n",
            "jieba                         | /usr/local/lib/python3.10/dist-packages\n",
            "jinja2                        | /usr/local/lib/python3.10/dist-packages\n",
            "joblib                        | /usr/local/lib/python3.10/dist-packages\n",
            "jsonpickle                    | /usr/local/lib/python3.10/dist-packages\n",
            "jsonschema                    | /usr/local/lib/python3.10/dist-packages\n",
            "jsonschema_specifications     | /usr/local/lib/python3.10/dist-packages\n",
            "jupyter                       | /usr/local/lib/python3.10/dist-packages\n",
            "jupyter_client                | /usr/local/lib/python3.10/dist-packages\n",
            "jupyter_console               | /usr/local/lib/python3.10/dist-packages\n",
            "jupyter_core                  | /usr/local/lib/python3.10/dist-packages\n",
            "jupyter_server                | /usr/local/lib/python3.10/dist-packages\n",
            "jupyterlab_plotly             | /usr/local/lib/python3.10/dist-packages\n",
            "jupyterlab_pygments           | /usr/local/lib/python3.10/dist-packages\n",
            "jupyterlab_widgets            | /usr/local/lib/python3.10/dist-packages\n",
            "kaggle                        | /usr/local/lib/python3.10/dist-packages\n",
            "kanren                        | /usr/local/lib/python3.10/dist-packages\n",
            "keras                         | /usr/local/lib/python3.10/dist-packages\n",
            "kiwisolver                    | /usr/local/lib/python3.10/dist-packages\n",
            "langcodes                     | /usr/local/lib/python3.10/dist-packages\n",
            "lazy_loader                   | /usr/local/lib/python3.10/dist-packages\n",
            "libfuturize                   | /usr/local/lib/python3.10/dist-packages\n",
            "libpasteurize                 | /usr/local/lib/python3.10/dist-packages\n",
            "librosa                       | /usr/local/lib/python3.10/dist-packages\n",
            "lightgbm                      | /usr/local/lib/python3.10/dist-packages\n",
            "linkify_it                    | /usr/local/lib/python3.10/dist-packages\n",
            "lit                           | /usr/local/lib/python3.10/dist-packages\n",
            "llvmlite                      | /usr/local/lib/python3.10/dist-packages\n",
            "locket                        | /usr/local/lib/python3.10/dist-packages\n",
            "lunarcalendar                 | /usr/local/lib/python3.10/dist-packages\n",
            "lxml                          | /usr/local/lib/python3.10/dist-packages\n",
            "markdown                      | /usr/local/lib/python3.10/dist-packages\n",
            "markdown_it                   | /usr/local/lib/python3.10/dist-packages\n",
            "markupsafe                    | /usr/local/lib/python3.10/dist-packages\n",
            "matplotlib                    | /usr/local/lib/python3.10/dist-packages\n",
            "matplotlib_inline             | /usr/local/lib/python3.10/dist-packages\n",
            "matplotlib_venn               | /usr/local/lib/python3.10/dist-packages\n",
            "mdit_py_plugins               | /usr/local/lib/python3.10/dist-packages\n",
            "mdurl                         | /usr/local/lib/python3.10/dist-packages\n",
            "missingno                     | /usr/local/lib/python3.10/dist-packages\n",
            "mistune                       | /usr/local/lib/python3.10/dist-packages\n",
            "mizani                        | /usr/local/lib/python3.10/dist-packages\n",
            "ml_dtypes                     | /usr/local/lib/python3.10/dist-packages\n",
            "mlxtend                       | /usr/local/lib/python3.10/dist-packages\n",
            "more_itertools                | /usr/local/lib/python3.10/dist-packages\n",
            "moviepy                       | /usr/local/lib/python3.10/dist-packages\n",
            "mpmath                        | /usr/local/lib/python3.10/dist-packages\n",
            "msgpack                       | /usr/local/lib/python3.10/dist-packages\n",
            "multidict                     | /usr/local/lib/python3.10/dist-packages\n",
            "multipledispatch              | /usr/local/lib/python3.10/dist-packages\n",
            "multitasking                  | /usr/local/lib/python3.10/dist-packages\n",
            "murmurhash                    | /usr/local/lib/python3.10/dist-packages\n",
            "music21                       | /usr/local/lib/python3.10/dist-packages\n",
            "natsort                       | /usr/local/lib/python3.10/dist-packages\n",
            "nbclassic                     | /usr/local/lib/python3.10/dist-packages\n",
            "nbclient                      | /usr/local/lib/python3.10/dist-packages\n",
            "nbconvert                     | /usr/local/lib/python3.10/dist-packages\n",
            "nbformat                      | /usr/local/lib/python3.10/dist-packages\n",
            "nest_asyncio                  | /usr/local/lib/python3.10/dist-packages\n",
            "networkx                      | /usr/local/lib/python3.10/dist-packages\n",
            "nibabel                       | /usr/local/lib/python3.10/dist-packages\n",
            "nisext                        | /usr/local/lib/python3.10/dist-packages\n",
            "nltk                          | /usr/local/lib/python3.10/dist-packages\n",
            "notebook                      | /usr/local/lib/python3.10/dist-packages\n",
            "notebook_shim                 | /usr/local/lib/python3.10/dist-packages\n",
            "numba                         | /usr/local/lib/python3.10/dist-packages\n",
            "numbergen                     | /usr/local/lib/python3.10/dist-packages\n",
            "numexpr                       | /usr/local/lib/python3.10/dist-packages\n",
            "numpy                         | /usr/local/lib/python3.10/dist-packages\n",
            "nvfuser                       | /usr/local/lib/python3.10/dist-packages\n",
            "oauth2client                  | /usr/local/lib/python3.10/dist-packages\n",
            "oauthlib                      | /usr/local/lib/python3.10/dist-packages\n",
            "openpyxl                      | /usr/local/lib/python3.10/dist-packages\n",
            "opt_einsum                    | /usr/local/lib/python3.10/dist-packages\n",
            "optax                         | /usr/local/lib/python3.10/dist-packages\n",
            "osgeo                         | /usr/local/lib/python3.10/dist-packages\n",
            "osgeo_utils                   | /usr/local/lib/python3.10/dist-packages\n",
            "osqp                          | /usr/local/lib/python3.10/dist-packages\n",
            "osqppurepy                    | /usr/local/lib/python3.10/dist-packages\n",
            "packaging                     | /usr/local/lib/python3.10/dist-packages\n",
            "pandas                        | /usr/local/lib/python3.10/dist-packages\n",
            "pandas_datareader             | /usr/local/lib/python3.10/dist-packages\n",
            "pandas_gbq                    | /usr/local/lib/python3.10/dist-packages\n",
            "pandocfilters                 | /usr/local/lib/python3.10/dist-packages\n",
            "panel                         | /usr/local/lib/python3.10/dist-packages\n",
            "param                         | /usr/local/lib/python3.10/dist-packages\n",
            "parso                         | /usr/local/lib/python3.10/dist-packages\n",
            "partd                         | /usr/local/lib/python3.10/dist-packages\n",
            "past                          | /usr/local/lib/python3.10/dist-packages\n",
            "pasta                         | /usr/local/lib/python3.10/dist-packages\n",
            "pathy                         | /usr/local/lib/python3.10/dist-packages\n",
            "patsy                         | /usr/local/lib/python3.10/dist-packages\n",
            "pexpect                       | /usr/local/lib/python3.10/dist-packages\n",
            "pickleshare                   | /usr/local/lib/python3.10/dist-packages\n",
            "pip                           | /usr/local/lib/python3.10/dist-packages\n",
            "piptools                      | /usr/local/lib/python3.10/dist-packages\n",
            "pkg_resources                 | /usr/local/lib/python3.10/dist-packages\n",
            "platformdirs                  | /usr/local/lib/python3.10/dist-packages\n",
            "plotly                        | /usr/local/lib/python3.10/dist-packages\n",
            "plotnine                      | /usr/local/lib/python3.10/dist-packages\n",
            "pluggy                        | /usr/local/lib/python3.10/dist-packages\n",
            "polars                        | /usr/local/lib/python3.10/dist-packages\n",
            "pooch                         | /usr/local/lib/python3.10/dist-packages\n",
            "portpicker                    | /usr/local/lib/python3.10/dist-packages\n",
            "prefetch_generator            | /usr/local/lib/python3.10/dist-packages\n",
            "preshed                       | /usr/local/lib/python3.10/dist-packages\n",
            "prettytable                   | /usr/local/lib/python3.10/dist-packages\n",
            "proglog                       | /usr/local/lib/python3.10/dist-packages\n",
            "progressbar                   | /usr/local/lib/python3.10/dist-packages\n",
            "prometheus_client             | /usr/local/lib/python3.10/dist-packages\n",
            "promise                       | /usr/local/lib/python3.10/dist-packages\n",
            "prompt_toolkit                | /usr/local/lib/python3.10/dist-packages\n",
            "prophet                       | /usr/local/lib/python3.10/dist-packages\n",
            "proto                         | /usr/local/lib/python3.10/dist-packages\n",
            "psutil                        | /usr/local/lib/python3.10/dist-packages\n",
            "psycopg2                      | /usr/local/lib/python3.10/dist-packages\n",
            "ptyprocess                    | /usr/local/lib/python3.10/dist-packages\n",
            "py                            | /usr/local/lib/python3.10/dist-packages\n",
            "py4j                          | /usr/local/lib/python3.10/dist-packages\n",
            "pyarrow                       | /usr/local/lib/python3.10/dist-packages\n",
            "pyasn1                        | /usr/local/lib/python3.10/dist-packages\n",
            "pyasn1_modules                | /usr/local/lib/python3.10/dist-packages\n",
            "pycocotools                   | /usr/local/lib/python3.10/dist-packages\n",
            "pycparser                     | /usr/local/lib/python3.10/dist-packages\n",
            "pyct                          | /usr/local/lib/python3.10/dist-packages\n",
            "pydantic                      | /usr/local/lib/python3.10/dist-packages\n",
            "pydata_google_auth            | /usr/local/lib/python3.10/dist-packages\n",
            "pydot                         | /usr/local/lib/python3.10/dist-packages\n",
            "pydot_ng                      | /usr/local/lib/python3.10/dist-packages\n",
            "pydotplus                     | /usr/local/lib/python3.10/dist-packages\n",
            "pydrive                       | /usr/local/lib/python3.10/dist-packages\n",
            "pydrive2                      | /usr/local/lib/python3.10/dist-packages\n",
            "pygame                        | /usr/local/lib/python3.10/dist-packages\n",
            "pygments                      | /usr/local/lib/python3.10/dist-packages\n",
            "pylab                         | /usr/local/lib/python3.10/dist-packages\n",
            "pymc                          | /usr/local/lib/python3.10/dist-packages\n",
            "pymeeus                       | /usr/local/lib/python3.10/dist-packages\n",
            "pymystem3                     | /usr/local/lib/python3.10/dist-packages\n",
            "pyparsing                     | /usr/local/lib/python3.10/dist-packages\n",
            "pyperclip                     | /usr/local/lib/python3.10/dist-packages\n",
            "pyproj                        | /usr/local/lib/python3.10/dist-packages\n",
            "pyproject_hooks               | /usr/local/lib/python3.10/dist-packages\n",
            "pytensor                      | /usr/local/lib/python3.10/dist-packages\n",
            "pytest                        | /usr/local/lib/python3.10/dist-packages\n",
            "python_utils                  | /usr/local/lib/python3.10/dist-packages\n",
            "pytz                          | /usr/local/lib/python3.10/dist-packages\n",
            "pyviz_comms                   | /usr/local/lib/python3.10/dist-packages\n",
            "pywt                          | /usr/local/lib/python3.10/dist-packages\n",
            "pyximport                     | /usr/local/lib/python3.10/dist-packages\n",
            "qdldl                         | /usr/local/lib/python3.10/dist-packages\n",
            "qudida                        | /usr/local/lib/python3.10/dist-packages\n",
            "ratelim                       | /usr/local/lib/python3.10/dist-packages\n",
            "referencing                   | /usr/local/lib/python3.10/dist-packages\n",
            "regex                         | /usr/local/lib/python3.10/dist-packages\n",
            "requests                      | /usr/local/lib/python3.10/dist-packages\n",
            "requests_oauthlib             | /usr/local/lib/python3.10/dist-packages\n",
            "requirements                  | /usr/local/lib/python3.10/dist-packages\n",
            "rich                          | /usr/local/lib/python3.10/dist-packages\n",
            "rpds                          | /usr/local/lib/python3.10/dist-packages\n",
            "rpy2                          | /usr/local/lib/python3.10/dist-packages\n",
            "rsa                           | /usr/local/lib/python3.10/dist-packages\n",
            "scipy                         | /usr/local/lib/python3.10/dist-packages\n",
            "scooby                        | /usr/local/lib/python3.10/dist-packages\n",
            "scs                           | /usr/local/lib/python3.10/dist-packages\n",
            "seaborn                       | /usr/local/lib/python3.10/dist-packages\n",
            "send2trash                    | /usr/local/lib/python3.10/dist-packages\n",
            "setuptools                    | /usr/local/lib/python3.10/dist-packages\n",
            "shapefile                     | /usr/local/lib/python3.10/dist-packages\n",
            "shapely                       | /usr/local/lib/python3.10/dist-packages\n",
            "six                           | /usr/local/lib/python3.10/dist-packages\n",
            "skimage                       | /usr/local/lib/python3.10/dist-packages\n",
            "sklearn                       | /usr/local/lib/python3.10/dist-packages\n",
            "sklearn_pandas                | /usr/local/lib/python3.10/dist-packages\n",
            "slugify                       | /usr/local/lib/python3.10/dist-packages\n",
            "smart_open                    | /usr/local/lib/python3.10/dist-packages\n",
            "sniffio                       | /usr/local/lib/python3.10/dist-packages\n",
            "snowballstemmer               | /usr/local/lib/python3.10/dist-packages\n",
            "socks                         | /usr/local/lib/python3.10/dist-packages\n",
            "sockshandler                  | /usr/local/lib/python3.10/dist-packages\n",
            "sortedcontainers              | /usr/local/lib/python3.10/dist-packages\n",
            "soundfile                     | /usr/local/lib/python3.10/dist-packages\n",
            "soupsieve                     | /usr/local/lib/python3.10/dist-packages\n",
            "soxr                          | /usr/local/lib/python3.10/dist-packages\n",
            "spacy                         | /usr/local/lib/python3.10/dist-packages\n",
            "spacy_legacy                  | /usr/local/lib/python3.10/dist-packages\n",
            "spacy_loggers                 | /usr/local/lib/python3.10/dist-packages\n",
            "sphinx                        | /usr/local/lib/python3.10/dist-packages\n",
            "sql                           | /usr/local/lib/python3.10/dist-packages\n",
            "sqlalchemy                    | /usr/local/lib/python3.10/dist-packages\n",
            "sqlparse                      | /usr/local/lib/python3.10/dist-packages\n",
            "srsly                         | /usr/local/lib/python3.10/dist-packages\n",
            "statsmodels                   | /usr/local/lib/python3.10/dist-packages\n",
            "sympy                         | /usr/local/lib/python3.10/dist-packages\n",
            "tables                        | /usr/local/lib/python3.10/dist-packages\n",
            "tabulate                      | /usr/local/lib/python3.10/dist-packages\n",
            "tblib                         | /usr/local/lib/python3.10/dist-packages\n",
            "tenacity                      | /usr/local/lib/python3.10/dist-packages\n",
            "tensorboard                   | /usr/local/lib/python3.10/dist-packages\n",
            "tensorboard_data_server       | /usr/local/lib/python3.10/dist-packages\n",
            "tensorflow                    | /usr/local/lib/python3.10/dist-packages\n",
            "tensorflow_datasets           | /usr/local/lib/python3.10/dist-packages\n",
            "tensorflow_estimator          | /usr/local/lib/python3.10/dist-packages\n",
            "tensorflow_gcs_config         | /usr/local/lib/python3.10/dist-packages\n",
            "tensorflow_hub                | /usr/local/lib/python3.10/dist-packages\n",
            "tensorflow_io_gcs_filesystem  | /usr/local/lib/python3.10/dist-packages\n",
            "tensorflow_metadata           | /usr/local/lib/python3.10/dist-packages\n",
            "tensorflow_probability        | /usr/local/lib/python3.10/dist-packages\n",
            "tensorstore                   | /usr/local/lib/python3.10/dist-packages\n",
            "termcolor                     | /usr/local/lib/python3.10/dist-packages\n",
            "terminado                     | /usr/local/lib/python3.10/dist-packages\n",
            "text_unidecode                | /usr/local/lib/python3.10/dist-packages\n",
            "textblob                      | /usr/local/lib/python3.10/dist-packages\n",
            "tf_slim                       | /usr/local/lib/python3.10/dist-packages\n",
            "thinc                         | /usr/local/lib/python3.10/dist-packages\n",
            "threadpoolctl                 | /usr/local/lib/python3.10/dist-packages\n",
            "tifffile                      | /usr/local/lib/python3.10/dist-packages\n",
            "tinycss2                      | /usr/local/lib/python3.10/dist-packages\n",
            "tlz                           | /usr/local/lib/python3.10/dist-packages\n",
            "toml                          | /usr/local/lib/python3.10/dist-packages\n",
            "tomli                         | /usr/local/lib/python3.10/dist-packages\n",
            "toolz                         | /usr/local/lib/python3.10/dist-packages\n",
            "torch                         | /usr/local/lib/python3.10/dist-packages\n",
            "torchaudio                    | /usr/local/lib/python3.10/dist-packages\n",
            "torchdata                     | /usr/local/lib/python3.10/dist-packages\n",
            "torchgen                      | /usr/local/lib/python3.10/dist-packages\n",
            "torchsummary                  | /usr/local/lib/python3.10/dist-packages\n",
            "torchtext                     | /usr/local/lib/python3.10/dist-packages\n",
            "torchvision                   | /usr/local/lib/python3.10/dist-packages\n",
            "tornado                       | /usr/local/lib/python3.10/dist-packages\n",
            "tqdm                          | /usr/local/lib/python3.10/dist-packages\n",
            "traitlets                     | /usr/local/lib/python3.10/dist-packages\n",
            "traittypes                    | /usr/local/lib/python3.10/dist-packages\n",
            "tree                          | /usr/local/lib/python3.10/dist-packages\n",
            "triton                        | /usr/local/lib/python3.10/dist-packages\n",
            "tweepy                        | /usr/local/lib/python3.10/dist-packages\n",
            "typer                         | /usr/local/lib/python3.10/dist-packages\n",
            "typing_extensions             | /usr/local/lib/python3.10/dist-packages\n",
            "tzlocal                       | /usr/local/lib/python3.10/dist-packages\n",
            "uc_micro                      | /usr/local/lib/python3.10/dist-packages\n",
            "unification                   | /usr/local/lib/python3.10/dist-packages\n",
            "uritemplate                   | /usr/local/lib/python3.10/dist-packages\n",
            "urllib3                       | /usr/local/lib/python3.10/dist-packages\n",
            "vega_datasets                 | /usr/local/lib/python3.10/dist-packages\n",
            "wasabi                        | /usr/local/lib/python3.10/dist-packages\n",
            "wcwidth                       | /usr/local/lib/python3.10/dist-packages\n",
            "webcolors                     | /usr/local/lib/python3.10/dist-packages\n",
            "webencodings                  | /usr/local/lib/python3.10/dist-packages\n",
            "websocket                     | /usr/local/lib/python3.10/dist-packages\n",
            "werkzeug                      | /usr/local/lib/python3.10/dist-packages\n",
            "wheel                         | /usr/local/lib/python3.10/dist-packages\n",
            "widgetsnbextension            | /usr/local/lib/python3.10/dist-packages\n",
            "wordcloud                     | /usr/local/lib/python3.10/dist-packages\n",
            "wrapt                         | /usr/local/lib/python3.10/dist-packages\n",
            "xarray                        | /usr/local/lib/python3.10/dist-packages\n",
            "xarray_einstats               | /usr/local/lib/python3.10/dist-packages\n",
            "xgboost                       | /usr/local/lib/python3.10/dist-packages\n",
            "xlrd                          | /usr/local/lib/python3.10/dist-packages\n",
            "xyzservices                   | /usr/local/lib/python3.10/dist-packages\n",
            "yaml                          | /usr/local/lib/python3.10/dist-packages\n",
            "yarl                          | /usr/local/lib/python3.10/dist-packages\n",
            "yellowbrick                   | /usr/local/lib/python3.10/dist-packages\n",
            "yfinance                      | /usr/local/lib/python3.10/dist-packages\n",
            "zict                          | /usr/local/lib/python3.10/dist-packages\n",
            "zipp                          | /usr/local/lib/python3.10/dist-packages\n",
            "zmq                           | /usr/local/lib/python3.10/dist-packages\n",
            "_dbus_bindings                | /usr/lib/python3/dist-packages\n",
            "_dbus_glib_bindings           | /usr/lib/python3/dist-packages\n",
            "blinker                       | /usr/lib/python3/dist-packages\n",
            "boost                         | /usr/lib/python3/dist-packages\n",
            "dbus                          | /usr/lib/python3/dist-packages\n",
            "distro                        | /usr/lib/python3/dist-packages\n",
            "gi                            | /usr/lib/python3/dist-packages\n",
            "jeepney                       | /usr/lib/python3/dist-packages\n",
            "jwt                           | /usr/lib/python3/dist-packages\n",
            "keyring                       | /usr/lib/python3/dist-packages\n",
            "launchpadlib                  | /usr/lib/python3/dist-packages\n",
            "lsb_release                   | /usr/lib/python3/dist-packages\n",
            "pygtkcompat                   | /usr/lib/python3/dist-packages\n",
            "secretstorage                 | /usr/lib/python3/dist-packages\n",
            "softwareproperties            | /usr/lib/python3/dist-packages\n",
            "wadllib                       | /usr/lib/python3/dist-packages\n",
            "autoreload                    | /usr/local/lib/python3.10/dist-packages/IPython/extensions\n",
            "cythonmagic                   | /usr/local/lib/python3.10/dist-packages/IPython/extensions\n",
            "rmagic                        | /usr/local/lib/python3.10/dist-packages/IPython/extensions\n",
            "storemagic                    | /usr/local/lib/python3.10/dist-packages/IPython/extensions\n",
            "sympyprinting                 | /usr/local/lib/python3.10/dist-packages/IPython/extensions\n",
            "tests                         | /usr/local/lib/python3.10/dist-packages/IPython/extensions\n"
          ]
        }
      ],
      "source": [
        "show_acceptable_modules()"
      ]
    },
    {
      "cell_type": "markdown",
      "metadata": {
        "id": "3SaAGxbhNE8W"
      },
      "source": [
        "**QUESTION 2**\n",
        "\n",
        "What is displayed on the last output?\n",
        "\n",
        "**The available Python modules** in the current environment using the pkgutil module.*\n",
        "\n",
        "\n",
        "Which is the used Python version?\n",
        "\n",
        "*The Python version used is* **python3.10**, *which can be identified by the modlues paths diplayed by the show_acceptable_modules() function*\n",
        "\n",
        "\n",
        "For this TP1, you will need:\n",
        "- pandas\n",
        "- matplotlib\n",
        "- numpy\n",
        "- sklearn\n",
        "\n",
        "Are these packages installed in this environment?\n",
        "\n",
        "Sklearn, matplotlib and numpy are availabl in our environment and they are located in the following paths:\n",
        "\n",
        "*   sklearn                       | /usr/local/lib/python3.10/dist-packages\n",
        "*   matplotlib                    | /usr/local/lib/python3.10/dist-packages\n",
        "*   numpy                         | /usr/local/lib/python3.10/dist-packages\n",
        "\n",
        "Only the Pandas package is unavailable in our environment\n",
        "\n",
        "\n",
        "\n",
        "\n"
      ]
    },
    {
      "cell_type": "markdown",
      "metadata": {
        "id": "plKPi2AyOJbH"
      },
      "source": [
        "**TO DO 1.3**\n",
        "\n",
        "Execute the following cell"
      ]
    },
    {
      "cell_type": "code",
      "execution_count": 15,
      "metadata": {
        "id": "uA8_Sk99OCwx",
        "colab": {
          "base_uri": "https://localhost:8080/",
          "height": 35
        },
        "outputId": "87b96bf9-291f-40de-83c6-edf880e76bcd"
      },
      "outputs": [
        {
          "output_type": "execute_result",
          "data": {
            "text/plain": [
              "'1.5.3'"
            ],
            "application/vnd.google.colaboratory.intrinsic+json": {
              "type": "string"
            }
          },
          "metadata": {},
          "execution_count": 15
        }
      ],
      "source": [
        "import pandas\n",
        "pandas.__version__"
      ]
    },
    {
      "cell_type": "markdown",
      "metadata": {
        "id": "s-fXaMVZOUz6"
      },
      "source": [
        "**QUESTION 3**\n",
        "\n",
        "How would you solve this error?\n",
        "\n",
        "*In order to solve this error we must import the pandas package. Doing so lets us know that the version of the pandas package installed in our environment is 1.5.3*"
      ]
    },
    {
      "cell_type": "markdown",
      "metadata": {
        "id": "UeFUQwYnOkOc"
      },
      "source": [
        "## STEP 2: Data manipulation and visualization\n"
      ]
    },
    {
      "cell_type": "markdown",
      "metadata": {
        "id": "jooNCqdVO3DM"
      },
      "source": [
        "**TO DO 2.1**\n",
        "\n",
        "Execute the following cell"
      ]
    },
    {
      "cell_type": "code",
      "execution_count": 17,
      "metadata": {
        "id": "rDNpZKEOO85F",
        "colab": {
          "base_uri": "https://localhost:8080/"
        },
        "outputId": "3b0e8eea-bd5a-4b44-9d12-11aee9e3bf39"
      },
      "outputs": [
        {
          "output_type": "stream",
          "name": "stdout",
          "text": [
            "<class 'pandas.core.frame.DataFrame'>\n",
            "Int64Index: 1649 entries, 0 to 2937\n",
            "Data columns (total 25 columns):\n",
            " #   Column                           Non-Null Count  Dtype  \n",
            "---  ------                           --------------  -----  \n",
            " 0   Country                          1649 non-null   object \n",
            " 1   Longitude                        1649 non-null   float64\n",
            " 2   Latitude                         1649 non-null   float64\n",
            " 3   Continent                        1649 non-null   object \n",
            " 4   Year                             1649 non-null   int64  \n",
            " 5   Status                           1649 non-null   object \n",
            " 6   Life_expectancy                  1649 non-null   float64\n",
            " 7   Adult_mortality                  1649 non-null   float64\n",
            " 8   Infant_deaths                    1649 non-null   int64  \n",
            " 9   Alcohol                          1649 non-null   float64\n",
            " 10  Percentage_expenditure           1649 non-null   float64\n",
            " 11  Hepatitis_B                      1649 non-null   float64\n",
            " 12  Measles                          1649 non-null   int64  \n",
            " 13  BMI                              1649 non-null   float64\n",
            " 14  Under-five_deaths                1649 non-null   int64  \n",
            " 15  Polio                            1649 non-null   float64\n",
            " 16  Total_expenditure                1649 non-null   float64\n",
            " 17  Diphtheria                       1649 non-null   float64\n",
            " 18  HIV_AIDS                         1649 non-null   float64\n",
            " 19  GDP                              1649 non-null   float64\n",
            " 20  Population                       1649 non-null   float64\n",
            " 21  Thinness _1-19_years             1649 non-null   float64\n",
            " 22  Thinness_5-9_years               1649 non-null   float64\n",
            " 23  Income_composition_of_resources  1649 non-null   float64\n",
            " 24  Schooling                        1649 non-null   float64\n",
            "dtypes: float64(18), int64(4), object(3)\n",
            "memory usage: 335.0+ KB\n"
          ]
        }
      ],
      "source": [
        "import pandas as pd\n",
        "import matplotlib.pyplot as plt\n",
        "\n",
        "df = pd.read_csv(\"/content/Life_Expectancy_Data.csv\")\n",
        "df = df.dropna()\n",
        "df.info()"
      ]
    },
    {
      "cell_type": "markdown",
      "metadata": {
        "id": "OdmKi5iNPEpg"
      },
      "source": [
        "**QUESTION 4**\n",
        "\n",
        "Can you explain the different elements printed on the last output?\n",
        "\n",
        "The elements printed on the last output represent the data present in the Life_Expectancy_Data.csv file. The null values in the dataset were removed using the df.dropna() method and the data was summmerized using the df.info() method which prints a concise summary of the dataset.\n",
        "\n",
        "Every column in the dataset is represented by a line indicating the number of non null values and their types.\n",
        "For example, the column Country in our dataset has 1649 non-null values that are of type object\n",
        "\n",
        "\n",
        "\n",
        "\n",
        "\n",
        "Rssources:\n",
        "\n",
        "https://pandas.pydata.org/docs/reference/api/pandas.DataFrame.dropna.html\n",
        "https://pandas.pydata.org/docs/reference/api/pandas.DataFrame.info.html\n"
      ]
    },
    {
      "cell_type": "code",
      "execution_count": 18,
      "metadata": {
        "id": "TO2VhknbPPcD",
        "colab": {
          "base_uri": "https://localhost:8080/"
        },
        "outputId": "989cdd7b-6680-4ba7-d346-5fdea4d8472c"
      },
      "outputs": [
        {
          "output_type": "stream",
          "name": "stdout",
          "text": [
            "df1:      Country  Longitude  Latitude Continent  Year      Status  Life_expectancy  \\\n",
            "931  France  -2.761729  42.17344    Europe  2014  Developing             82.2   \n",
            "932  France  -2.761729  42.17344    Europe  2013  Developing             82.0   \n",
            "933  France  -2.761729  42.17344    Europe  2012  Developing             81.5   \n",
            "934  France  -2.761729  42.17344    Europe  2011  Developing             81.7   \n",
            "\n",
            "     Adult_mortality  Infant_deaths  Alcohol  ...  Polio  Total_expenditure  \\\n",
            "931             79.0              3     11.5  ...   98.0              11.54   \n",
            "932             81.0              3     11.1  ...   99.0              11.56   \n",
            "933             83.0              3     11.5  ...   99.0              11.44   \n",
            "934             83.0              3     11.8  ...   99.0              11.33   \n",
            "\n",
            "     Diphtheria  HIV_AIDS          GDP  Population  Thinness _1-19_years  \\\n",
            "931        98.0       0.1  42955.24287  66331957.0                   0.6   \n",
            "932        99.0       0.1  42554.12250   6599857.0                   0.6   \n",
            "933        99.0       0.1   4838.24440   6565979.0                   0.6   \n",
            "934        99.0       0.1   4381.28800  65342776.0                   0.6   \n",
            "\n",
            "     Thinness_5-9_years  Income_composition_of_resources  Schooling  \n",
            "931                 0.6                            0.890       16.2  \n",
            "932                 0.6                            0.887       16.2  \n",
            "933                 0.6                            0.885       16.1  \n",
            "934                 0.6                            0.882       16.1  \n",
            "\n",
            "[4 rows x 25 columns]\n",
            "df2:  931    2014\n",
            "932    2013\n",
            "933    2012\n",
            "934    2011\n",
            "935    2010\n",
            "936    2009\n",
            "937    2008\n",
            "938    2007\n",
            "939    2006\n",
            "940    2005\n",
            "941    2004\n",
            "942    2003\n",
            "943    2002\n",
            "944    2001\n",
            "945    2000\n",
            "Name: Year, dtype: int64\n"
          ]
        }
      ],
      "source": [
        "df1 = df[(df.Country == \"France\") & (df.Year > 2010)]\n",
        "print(\"df1: \", df1)\n",
        "df2 = df[(df.Country == \"France\")].Year\n",
        "print(\"df2: \", df2)"
      ]
    },
    {
      "cell_type": "markdown",
      "metadata": {
        "id": "HIPyWcrYPicD"
      },
      "source": [
        "**QUESTION 5**\n",
        "\n",
        "How do you interpret the new Data Frame df1 compared to df? What represents df2 compared to df1?\n",
        "\n",
        "The df1 dataframe is accessing all of the data in the dataset having France as Country and the year greater the 2010.\n",
        "\n",
        "The df2 dataframe is only accessing the years Having France as Country"
      ]
    },
    {
      "cell_type": "markdown",
      "metadata": {
        "id": "ZOiWa2vsPq-A"
      },
      "source": [
        "**TO CODE 2.2**\n",
        "\n",
        "What is the range of life expectancy of Belgium between 2004 and 2008?"
      ]
    },
    {
      "cell_type": "code",
      "execution_count": 28,
      "metadata": {
        "id": "G6bvJ4oQPyiU",
        "colab": {
          "base_uri": "https://localhost:8080/"
        },
        "outputId": "52d1c26d-eb36-47ae-d344-21fd16e3125d"
      },
      "outputs": [
        {
          "output_type": "stream",
          "name": "stdout",
          "text": [
            "[ 78.8 , 79.5 ]\n"
          ]
        }
      ],
      "source": [
        "df3 = df[(df.Country == \"Belgium\") & (df.Year >= 2004) & (df.Year <= 2008)].Life_expectancy\n",
        "print(\"[\",df3.min(),\",\",  df3.max(),\"]\")"
      ]
    },
    {
      "cell_type": "markdown",
      "metadata": {
        "id": "JQ5hQwbzP-IQ"
      },
      "source": [
        "**TO DO 2.3**\n",
        "\n",
        "Compute the correlation among all features"
      ]
    },
    {
      "cell_type": "code",
      "execution_count": 29,
      "metadata": {
        "id": "wR83je-kQFD8",
        "colab": {
          "base_uri": "https://localhost:8080/"
        },
        "outputId": "1b2ddd4d-6606-4b9f-feb5-62da869570e6"
      },
      "outputs": [
        {
          "output_type": "stream",
          "name": "stdout",
          "text": [
            "                                 Longitude  Latitude      Year  \\\n",
            "Longitude                         1.000000  0.064602 -0.018635   \n",
            "Latitude                          0.064602  1.000000 -0.027252   \n",
            "Year                             -0.018635 -0.027252  1.000000   \n",
            "Life_expectancy                  -0.192675  0.432515  0.050771   \n",
            "Adult_mortality                   0.091557 -0.348847 -0.037092   \n",
            "Infant_deaths                     0.140981 -0.002955  0.008029   \n",
            "Alcohol                          -0.202308  0.349825 -0.113365   \n",
            "Percentage_expenditure           -0.057579  0.214447  0.069553   \n",
            "Hepatitis_B                       0.012114  0.060178  0.114897   \n",
            "Measles                           0.168937  0.033374 -0.053822   \n",
            "BMI                              -0.233330  0.268139  0.005739   \n",
            "Under-five_deaths                 0.134130 -0.011890  0.010479   \n",
            "Polio                            -0.002238  0.179645 -0.016699   \n",
            "Total_expenditure                -0.200847  0.043328  0.059493   \n",
            "Diphtheria                       -0.026703  0.189472  0.029641   \n",
            "HIV_AIDS                          0.027877 -0.388946 -0.123405   \n",
            "GDP                              -0.049566  0.250799  0.096421   \n",
            "Population                        0.068179  0.010934  0.012567   \n",
            "Thinness _1-19_years              0.282557 -0.155765  0.019757   \n",
            "Thinness_5-9_years                0.308874 -0.162645  0.014122   \n",
            "Income_composition_of_resources  -0.227682  0.330439  0.122892   \n",
            "Schooling                        -0.151183  0.279783  0.088732   \n",
            "\n",
            "                                 Life_expectancy  Adult_mortality  \\\n",
            "Longitude                              -0.192675         0.091557   \n",
            "Latitude                                0.432515        -0.348847   \n",
            "Year                                    0.050771        -0.037092   \n",
            "Life_expectancy                         1.000000        -0.702523   \n",
            "Adult_mortality                        -0.702523         1.000000   \n",
            "Infant_deaths                          -0.169074         0.042450   \n",
            "Alcohol                                 0.402718        -0.175535   \n",
            "Percentage_expenditure                  0.409631        -0.237610   \n",
            "Hepatitis_B                             0.199935        -0.105225   \n",
            "Measles                                -0.068881        -0.003967   \n",
            "BMI                                     0.542042        -0.351542   \n",
            "Under-five_deaths                      -0.192265         0.060365   \n",
            "Polio                                   0.327294        -0.199853   \n",
            "Total_expenditure                       0.174718        -0.085227   \n",
            "Diphtheria                              0.341331        -0.191429   \n",
            "HIV_AIDS                               -0.592236         0.550691   \n",
            "GDP                                     0.441322        -0.255035   \n",
            "Population                             -0.022305        -0.015012   \n",
            "Thinness _1-19_years                   -0.457838         0.272230   \n",
            "Thinness_5-9_years                     -0.457508         0.286723   \n",
            "Income_composition_of_resources         0.721083        -0.442203   \n",
            "Schooling                               0.727630        -0.421171   \n",
            "\n",
            "                                 Infant_deaths   Alcohol  \\\n",
            "Longitude                             0.140981 -0.202308   \n",
            "Latitude                             -0.002955  0.349825   \n",
            "Year                                  0.008029 -0.113365   \n",
            "Life_expectancy                      -0.169074  0.402718   \n",
            "Adult_mortality                       0.042450 -0.175535   \n",
            "Infant_deaths                         1.000000 -0.106217   \n",
            "Alcohol                              -0.106217  1.000000   \n",
            "Percentage_expenditure               -0.090765  0.417047   \n",
            "Hepatitis_B                          -0.231769  0.109889   \n",
            "Measles                               0.532680 -0.050110   \n",
            "BMI                                  -0.234425  0.353396   \n",
            "Under-five_deaths                     0.996906 -0.101082   \n",
            "Polio                                -0.156929  0.240315   \n",
            "Total_expenditure                    -0.146951  0.214885   \n",
            "Diphtheria                           -0.161871  0.242951   \n",
            "HIV_AIDS                              0.007712 -0.027113   \n",
            "GDP                                  -0.098092  0.443433   \n",
            "Population                            0.671758 -0.028880   \n",
            "Thinness _1-19_years                  0.463415 -0.403755   \n",
            "Thinness_5-9_years                    0.461908 -0.386208   \n",
            "Income_composition_of_resources      -0.134754  0.561074   \n",
            "Schooling                            -0.214372  0.616975   \n",
            "\n",
            "                                 Percentage_expenditure  Hepatitis_B  \\\n",
            "Longitude                                     -0.057579     0.012114   \n",
            "Latitude                                       0.214447     0.060178   \n",
            "Year                                           0.069553     0.114897   \n",
            "Life_expectancy                                0.409631     0.199935   \n",
            "Adult_mortality                               -0.237610    -0.105225   \n",
            "Infant_deaths                                 -0.090765    -0.231769   \n",
            "Alcohol                                        0.417047     0.109889   \n",
            "Percentage_expenditure                         1.000000     0.016760   \n",
            "Hepatitis_B                                    0.016760     1.000000   \n",
            "Measles                                       -0.063071    -0.124800   \n",
            "BMI                                            0.242738     0.143302   \n",
            "Under-five_deaths                             -0.092158    -0.240766   \n",
            "Polio                                          0.128626     0.463331   \n",
            "Total_expenditure                              0.183872     0.113327   \n",
            "Diphtheria                                     0.134813     0.588990   \n",
            "HIV_AIDS                                      -0.095085    -0.094802   \n",
            "GDP                                            0.959299     0.041850   \n",
            "Population                                    -0.016792    -0.129723   \n",
            "Thinness _1-19_years                          -0.255035    -0.129406   \n",
            "Thinness_5-9_years                            -0.255635    -0.133251   \n",
            "Income_composition_of_resources                0.402170     0.184921   \n",
            "Schooling                                      0.422088     0.215182   \n",
            "\n",
            "                                  Measles  ...     Polio  Total_expenditure  \\\n",
            "Longitude                        0.168937  ... -0.002238          -0.200847   \n",
            "Latitude                         0.033374  ...  0.179645           0.043328   \n",
            "Year                            -0.053822  ... -0.016699           0.059493   \n",
            "Life_expectancy                 -0.068881  ...  0.327294           0.174718   \n",
            "Adult_mortality                 -0.003967  ... -0.199853          -0.085227   \n",
            "Infant_deaths                    0.532680  ... -0.156929          -0.146951   \n",
            "Alcohol                         -0.050110  ...  0.240315           0.214885   \n",
            "Percentage_expenditure          -0.063071  ...  0.128626           0.183872   \n",
            "Hepatitis_B                     -0.124800  ...  0.463331           0.113327   \n",
            "Measles                          1.000000  ... -0.057850          -0.113583   \n",
            "BMI                             -0.153245  ...  0.186268           0.189469   \n",
            "Under-five_deaths                0.517506  ... -0.171164          -0.145803   \n",
            "Polio                           -0.057850  ...  1.000000           0.119768   \n",
            "Total_expenditure               -0.113583  ...  0.119768           1.000000   \n",
            "Diphtheria                      -0.058606  ...  0.609245           0.129915   \n",
            "HIV_AIDS                        -0.003522  ... -0.107885           0.043101   \n",
            "GDP                             -0.064768  ...  0.156809           0.180373   \n",
            "Population                       0.321946  ... -0.045387          -0.079962   \n",
            "Thinness _1-19_years             0.180642  ... -0.164070          -0.209872   \n",
            "Thinness_5-9_years               0.174946  ... -0.174489          -0.217865   \n",
            "Income_composition_of_resources -0.058277  ...  0.314682           0.183653   \n",
            "Schooling                       -0.115660  ...  0.350147           0.243783   \n",
            "\n",
            "                                 Diphtheria  HIV_AIDS       GDP  Population  \\\n",
            "Longitude                         -0.026703  0.027877 -0.049566    0.068179   \n",
            "Latitude                           0.189472 -0.388946  0.250799    0.010934   \n",
            "Year                               0.029641 -0.123405  0.096421    0.012567   \n",
            "Life_expectancy                    0.341331 -0.592236  0.441322   -0.022305   \n",
            "Adult_mortality                   -0.191429  0.550691 -0.255035   -0.015012   \n",
            "Infant_deaths                     -0.161871  0.007712 -0.098092    0.671758   \n",
            "Alcohol                            0.242951 -0.027113  0.443433   -0.028880   \n",
            "Percentage_expenditure             0.134813 -0.095085  0.959299   -0.016792   \n",
            "Hepatitis_B                        0.588990 -0.094802  0.041850   -0.129723   \n",
            "Measles                           -0.058606 -0.003522 -0.064768    0.321946   \n",
            "BMI                                0.176295 -0.210897  0.266114   -0.081416   \n",
            "Under-five_deaths                 -0.178448  0.019476 -0.100331    0.658680   \n",
            "Polio                              0.609245 -0.107885  0.156809   -0.045387   \n",
            "Total_expenditure                  0.129915  0.043101  0.180373   -0.079962   \n",
            "Diphtheria                         1.000000 -0.117601  0.158438   -0.039898   \n",
            "HIV_AIDS                          -0.117601  1.000000 -0.108081   -0.027801   \n",
            "GDP                                0.158438 -0.108081  1.000000   -0.020369   \n",
            "Population                        -0.039898 -0.027801 -0.020369    1.000000   \n",
            "Thinness _1-19_years              -0.187242  0.172592 -0.277498    0.282529   \n",
            "Thinness_5-9_years                -0.180952  0.183147 -0.277959    0.277913   \n",
            "Income_composition_of_resources    0.343262 -0.248590  0.446856   -0.008132   \n",
            "Schooling                          0.350398 -0.211840  0.467947   -0.040312   \n",
            "\n",
            "                                 Thinness _1-19_years  Thinness_5-9_years  \\\n",
            "Longitude                                    0.282557            0.308874   \n",
            "Latitude                                    -0.155765           -0.162645   \n",
            "Year                                         0.019757            0.014122   \n",
            "Life_expectancy                             -0.457838           -0.457508   \n",
            "Adult_mortality                              0.272230            0.286723   \n",
            "Infant_deaths                                0.463415            0.461908   \n",
            "Alcohol                                     -0.403755           -0.386208   \n",
            "Percentage_expenditure                      -0.255035           -0.255635   \n",
            "Hepatitis_B                                 -0.129406           -0.133251   \n",
            "Measles                                      0.180642            0.174946   \n",
            "BMI                                         -0.547018           -0.554094   \n",
            "Under-five_deaths                            0.464785            0.462289   \n",
            "Polio                                       -0.164070           -0.174489   \n",
            "Total_expenditure                           -0.209872           -0.217865   \n",
            "Diphtheria                                  -0.187242           -0.180952   \n",
            "HIV_AIDS                                     0.172592            0.183147   \n",
            "GDP                                         -0.277498           -0.277959   \n",
            "Population                                   0.282529            0.277913   \n",
            "Thinness _1-19_years                         1.000000            0.927913   \n",
            "Thinness_5-9_years                           0.927913            1.000000   \n",
            "Income_composition_of_resources             -0.453679           -0.438484   \n",
            "Schooling                                   -0.491199           -0.472482   \n",
            "\n",
            "                                 Income_composition_of_resources  Schooling  \n",
            "Longitude                                              -0.227682  -0.151183  \n",
            "Latitude                                                0.330439   0.279783  \n",
            "Year                                                    0.122892   0.088732  \n",
            "Life_expectancy                                         0.721083   0.727630  \n",
            "Adult_mortality                                        -0.442203  -0.421171  \n",
            "Infant_deaths                                          -0.134754  -0.214372  \n",
            "Alcohol                                                 0.561074   0.616975  \n",
            "Percentage_expenditure                                  0.402170   0.422088  \n",
            "Hepatitis_B                                             0.184921   0.215182  \n",
            "Measles                                                -0.058277  -0.115660  \n",
            "BMI                                                     0.510505   0.554844  \n",
            "Under-five_deaths                                      -0.148097  -0.226013  \n",
            "Polio                                                   0.314682   0.350147  \n",
            "Total_expenditure                                       0.183653   0.243783  \n",
            "Diphtheria                                              0.343262   0.350398  \n",
            "HIV_AIDS                                               -0.248590  -0.211840  \n",
            "GDP                                                     0.446856   0.467947  \n",
            "Population                                             -0.008132  -0.040312  \n",
            "Thinness _1-19_years                                   -0.453679  -0.491199  \n",
            "Thinness_5-9_years                                     -0.438484  -0.472482  \n",
            "Income_composition_of_resources                         1.000000   0.784741  \n",
            "Schooling                                               0.784741   1.000000  \n",
            "\n",
            "[22 rows x 22 columns]\n"
          ]
        },
        {
          "output_type": "stream",
          "name": "stderr",
          "text": [
            "<ipython-input-29-23236a4e6045>:1: FutureWarning: The default value of numeric_only in DataFrame.corr is deprecated. In a future version, it will default to False. Select only valid columns or specify the value of numeric_only to silence this warning.\n",
            "  print(df.corr())\n"
          ]
        }
      ],
      "source": [
        "print(df.corr())"
      ]
    },
    {
      "cell_type": "markdown",
      "metadata": {
        "id": "UXcFU3_ARz1C"
      },
      "source": [
        "**QUESTION 6**\n",
        "\n",
        "Which seems the most and the least promising values to use as a predictor for life expectancy?"
      ]
    },
    {
      "cell_type": "markdown",
      "metadata": {
        "id": "EZlknwdoSgcH"
      },
      "source": [
        "The function scatter of matplotlib allows to plot two values against each other. Here is the documentation about this function:\n",
        "\n",
        "```\n",
        "matplotlib.pyplot.scatter(x, y, s=None, c=None, marker=None, cmap=None, norm=None, vmin=None, vmax=None, alpha=None, linewidths=None, *, edgecolors=None, plotnonfinite=False, data=None, **kwargs)\n",
        "```\n",
        "Parameters:\n",
        "\n",
        "**x, y** float or array-like, shape (n, )\n",
        "\n",
        "The data positions.\n",
        "\n",
        "**s** float or array-like, shape (n, ), optional\n",
        "\n",
        "The marker size in points**2. Default is rcParams['lines.markersize'] ** 2.\n",
        "\n",
        "**c** array-like or list of colors or color, optional\n",
        "\n",
        "The marker colors. Possible values:\n",
        "\n",
        "- A scalar or sequence of n numbers to be mapped to colors using cmap and norm.\n",
        "\n",
        "- A 2D array in which the rows are RGB or RGBA.\n",
        "\n",
        "- A sequence of colors of length n.\n",
        "\n",
        "- A single color format string.\n",
        "\n",
        "**marker** MarkerStyle, default: rcParams (default: 'o')\n",
        "\n",
        "The marker style. marker can be either an instance of the class or the text shorthand for a particular marker. See matplotlib.markers for more information about marker styles.\n",
        "\n",
        "**cmapstr** or Colormap, default: rcParams(default: 'viridis')\n",
        "\n",
        "A Colormap instance or registered colormap name. cmap is only used if c is an array of floats.\n",
        "\n",
        "**norm** Normalize, default: None\n",
        "\n",
        "If c is an array of floats, norm is used to scale the color data, c, in the range 0 to 1, in order to map into the colormap cmap. If None, use the default colors.Normalize.\n",
        "\n",
        "**vmin, vmax** float, default: None\n",
        "\n",
        "vmin and vmax are used in conjunction with the default norm to map the color array c to the colormap cmap. If None, the respective min and max of the color array is used. It is deprecated to use vmin/vmax when norm is given.\n",
        "\n",
        "**alpha** float, default: None\n",
        "\n",
        "The alpha blending value, between 0 (transparent) and 1 (opaque).\n",
        "\n",
        "**linewidths** float or array-like, default: rcParams (default: 1.5)\n",
        "\n",
        "The linewidth of the marker edges. Note: The default edgecolors is 'face'. You may want to change this as well.\n",
        "\n",
        "**edgecolors** {'face', 'none', None} or color or sequence of color, default: rcParams[\"scatter.edgecolors\"] (default: 'face')\n",
        "\n",
        "The edge color of the marker. Possible values:\n",
        "\n",
        "- 'face': The edge color will always be the same as the face color.\n",
        "\n",
        "- 'none': No patch boundary will be drawn.\n",
        "        \n",
        "- A color or sequence of colors.\n",
        "\n",
        "For non-filled markers, edgecolors is ignored. Instead, the color is determined like with 'face', i.e. from c, colors, or facecolors.\n",
        "\n",
        "**plotnonfinite** bool, default: False\n",
        "\n",
        "Whether to plot points with nonfinite c (i.e. inf, -inf or nan). If True the points are drawn with the bad colormap color (see Colormap.set_bad).\n"
      ]
    },
    {
      "cell_type": "markdown",
      "metadata": {
        "id": "oU01fx8SUrrI"
      },
      "source": [
        "**TO CODE 2.4**\n",
        "\n",
        "Plot life expectancy against one of your chosen values."
      ]
    },
    {
      "cell_type": "code",
      "execution_count": null,
      "metadata": {
        "id": "o2HNsPbYUz2o"
      },
      "outputs": [],
      "source": []
    },
    {
      "cell_type": "markdown",
      "metadata": {
        "id": "S0LPy8bQU89J"
      },
      "source": [
        "## STEP 3: Simple Linear Regression"
      ]
    },
    {
      "cell_type": "code",
      "execution_count": null,
      "metadata": {
        "id": "IGQeYPIVVGEj"
      },
      "outputs": [],
      "source": [
        "import numpy as np"
      ]
    },
    {
      "cell_type": "markdown",
      "metadata": {
        "id": "i9YDznMfVJDJ"
      },
      "source": [
        "**TO CODE 3.1**\n",
        "\n",
        "Select the Life Expectancy and the Income composition of resources of Belarus, Madagascar, India and Lithuania. This new Data Frame will be called df_study"
      ]
    },
    {
      "cell_type": "code",
      "execution_count": null,
      "metadata": {
        "id": "5qPFHI2bVPxz"
      },
      "outputs": [],
      "source": []
    },
    {
      "cell_type": "markdown",
      "metadata": {
        "id": "_PKXxl6KVVx2"
      },
      "source": [
        "**TO CODE 3.2**\n",
        "\n",
        "Implement a simple least square function and apply it on the previous selected data."
      ]
    },
    {
      "cell_type": "code",
      "execution_count": null,
      "metadata": {
        "id": "JSv6B7r8VeCO"
      },
      "outputs": [],
      "source": []
    },
    {
      "cell_type": "code",
      "execution_count": null,
      "metadata": {
        "id": "zU1FbbP6B1ny"
      },
      "outputs": [],
      "source": []
    },
    {
      "cell_type": "markdown",
      "metadata": {
        "id": "uiBtO-IMB1ny"
      },
      "source": [
        "**TO CODE 3.3**\n",
        "\n",
        "On the same figure, draw the line corresponding to your regression and the data points corres-\n",
        "ponding to df_study"
      ]
    },
    {
      "cell_type": "code",
      "execution_count": null,
      "metadata": {
        "id": "_ojxpwi1B1ny"
      },
      "outputs": [],
      "source": []
    },
    {
      "cell_type": "markdown",
      "metadata": {
        "id": "rN969VMTVi7U"
      },
      "source": [
        "**TO CODE 3.4**\n",
        "\n",
        "Now, implement a Gradient Descend function `def gradDescent(x, y, theta, alpha, iters)` where `x` are\n",
        "the covariates, `y` the target value, `theta` the initial weights, `alpha` the learning rate and `iters` the number\n",
        "of gradient descent iterations. Your function should return all intermediary values of `theta` that has been computed as a list."
      ]
    },
    {
      "cell_type": "code",
      "execution_count": null,
      "metadata": {
        "id": "j2r8IGYSVoL_"
      },
      "outputs": [],
      "source": []
    },
    {
      "cell_type": "markdown",
      "metadata": {
        "id": "VQpG25CiVzWM"
      },
      "source": [
        "**TO CODE 3.5**\n",
        "\n",
        "Compute the gradient descend on df_study for 1000 iterations with different values of `alpha`. You\n",
        "may initialize `theta` with `theta_0 = 0` and `theta_1 = 1`"
      ]
    },
    {
      "cell_type": "code",
      "execution_count": null,
      "metadata": {
        "id": "UcBnQMNAWDll"
      },
      "outputs": [],
      "source": []
    },
    {
      "cell_type": "markdown",
      "metadata": {
        "id": "AX03byhrWJvJ"
      },
      "source": [
        "**TO CODE 3.6**\n",
        "\n",
        "On the same figure, plot the evolution of theta_0 through the iterations for each different values of\n",
        "alpha you chose. Do the same thing for theta_1."
      ]
    },
    {
      "cell_type": "code",
      "execution_count": null,
      "metadata": {
        "id": "aqSKwaxEWVoU"
      },
      "outputs": [],
      "source": []
    },
    {
      "cell_type": "markdown",
      "metadata": {
        "id": "5zgsbk04We9F"
      },
      "source": [
        "**Question 7**\n",
        "\n",
        "Discuss on the role of alpha"
      ]
    },
    {
      "cell_type": "markdown",
      "metadata": {
        "id": "iOo29xisWxRo"
      },
      "source": [
        "$R^2$ is the coefficient of determination useful to score a regression against the ground truth data.\n",
        "\n",
        "This coefficient can be computed with a sklearn function:\n",
        "\n",
        "```\n",
        "sklearn.metrics.r2_score(y_true, y_pred, *, sample_weight=None, multioutput='uniform_average')\n",
        "```\n",
        "\n",
        "With:\n",
        "\n",
        "**y_true** array-like of shape (n_samples,) or (n_samples, n_outputs)\n",
        "\n",
        "Ground truth (correct) target values.\n",
        "\n",
        "**y_pred** array-like of shape (n_samples,) or (n_samples, n_outputs)\n",
        "\n",
        "Estimated target values.\n",
        "\n",
        "**sample_weight** array-like of shape (n_samples,), default=None\n",
        "\n",
        "Sample weights.\n",
        "\n",
        "**multioutput** {‘raw_values’, ‘uniform_average’, ‘variance_weighted’}, array-like of shape (n_outputs,) or None, default=’uniform_average’\n",
        "\n",
        "Defines aggregating of multiple output scores. Array-like value defines weights used to average scores. Default is “uniform_average”.\n",
        "\n",
        "- ‘raw_values’: Returns a full set of scores in case of multioutput input.\n",
        "\n",
        "- ‘uniform_average’: Scores of all outputs are averaged with uniform weight.\n",
        "\n",
        "- ‘variance_weighted’: Scores of all outputs are averaged, weighted by the variances of each individual output.\n"
      ]
    },
    {
      "cell_type": "code",
      "execution_count": null,
      "metadata": {
        "id": "NG9YymF4X5oN"
      },
      "outputs": [],
      "source": [
        "from sklearn.metrics import r2_score"
      ]
    },
    {
      "cell_type": "markdown",
      "metadata": {
        "id": "v6G_L1asX9Kp"
      },
      "source": [
        "**TO CODE 3.7**\n",
        "\n",
        "Compute $R^2$ on the regression with df_study"
      ]
    },
    {
      "cell_type": "code",
      "execution_count": null,
      "metadata": {
        "id": "mJr-e5OlYSx7"
      },
      "outputs": [],
      "source": []
    },
    {
      "cell_type": "markdown",
      "metadata": {
        "id": "ypKuUxvNYbW7"
      },
      "source": [
        "**QUESTION 8**\n",
        "\n",
        "Is linear regression suited between the two selected variables?"
      ]
    },
    {
      "cell_type": "markdown",
      "metadata": {
        "id": "gZY_AZShYfsH"
      },
      "source": [
        "**QUESTION 9**\n",
        "\n",
        "If not, what would be the relevant regression between these two variables?"
      ]
    },
    {
      "cell_type": "markdown",
      "metadata": {
        "id": "kIgB-0U2Yj2n"
      },
      "source": [
        "## STEP 4: Multivariate regression"
      ]
    },
    {
      "cell_type": "markdown",
      "metadata": {
        "id": "0yRPMeekYtH6"
      },
      "source": [
        "**TO DO 4.1**\n",
        "\n",
        "Execute the following cells"
      ]
    },
    {
      "cell_type": "code",
      "execution_count": null,
      "metadata": {
        "id": "G4kPVXiyY4wv"
      },
      "outputs": [],
      "source": [
        "from sklearn.preprocessing import scale\n",
        "from sklearn.model_selection import train_test_split\n",
        "from sklearn.linear_model import Ridge, Lasso\n",
        "from sklearn.metrics import mean_squared_error\n",
        "\n",
        "df_study = df[(df.Country == \"Belarus\") | (df.Country == \"Madagascar\") | (df.Country == \"India\") | (df.Country == \"Lithuania\")]\n",
        "y = df_study.Life_expectancy\n",
        "X = df_study[['Adult_mortality', 'Alcohol', 'Total_expenditure', 'Income_composition_of_resources', 'Schooling', \"HIV_AIDS\"]].to_numpy(dtype='float64')\n",
        "\n",
        "alphas = 10**np.linspace(10,-2,100)*0.5"
      ]
    },
    {
      "cell_type": "code",
      "execution_count": null,
      "metadata": {
        "id": "6BgdZ1NtZrSX",
        "outputId": "94b2bfb9-2979-46f0-9772-b5d7c27e68ff"
      },
      "outputs": [
        {
          "data": {
            "image/png": "[encoded data removed]",
            "text/plain": [
              "<Figure size 432x288 with 1 Axes>"
            ]
          },
          "metadata": {},
          "output_type": "display_data"
        }
      ],
      "source": [
        "ridge = Ridge(normalize = True)\n",
        "coefs = []\n",
        "\n",
        "for a in alphas:\n",
        "    ridge.set_params(alpha = a)\n",
        "    ridge.fit(X, y)\n",
        "    coefs.append(ridge.coef_)\n",
        "\n",
        "ax = plt.gca()\n",
        "ax.plot(alphas, coefs)\n",
        "ax.set_xscale('log')\n",
        "plt.axis('tight')\n",
        "plt.xlabel('alpha')\n",
        "plt.ylabel('weights')\n",
        "plt.show()"
      ]
    },
    {
      "cell_type": "markdown",
      "metadata": {
        "id": "nsgqxxl_Y-E7"
      },
      "source": [
        "**QUESTION 10**\n",
        "\n",
        "How do you interpret the plot?"
      ]
    },
    {
      "cell_type": "markdown",
      "metadata": {
        "id": "xOY8y0NSZBoA"
      },
      "source": [
        "**QUESTION 11**\n",
        "\n",
        "Is it normal that the l2 diminishes with alpha increasing?"
      ]
    },
    {
      "cell_type": "markdown",
      "metadata": {
        "id": "zXJJ60SvZFb4"
      },
      "source": [
        "**QUESTION 12**\n",
        "\n",
        "Which is the most relevant variable for Ridge? Prove and justify your response in the following cell"
      ]
    },
    {
      "cell_type": "code",
      "execution_count": null,
      "metadata": {
        "id": "p_1oTp4YZMfx"
      },
      "outputs": [],
      "source": []
    },
    {
      "cell_type": "markdown",
      "metadata": {
        "id": "SxNYtuGgZNh1"
      },
      "source": [
        "**TO DO 4.2**\n",
        "\n",
        "Execute the following cell"
      ]
    },
    {
      "cell_type": "code",
      "execution_count": null,
      "metadata": {
        "id": "mwNrichRZVrl",
        "outputId": "326b1f2a-9a05-4be9-da73-d4cd5f97f1e7"
      },
      "outputs": [
        {
          "data": {
            "image/png": "[encoded data removed]",
            "text/plain": [
              "<Figure size 432x288 with 1 Axes>"
            ]
          },
          "metadata": {},
          "output_type": "display_data"
        }
      ],
      "source": [
        "lasso = Lasso(normalize = True)\n",
        "coefs = []\n",
        "\n",
        "for a in alphas:\n",
        "    lasso.set_params(alpha = a)\n",
        "    lasso.fit(X, y)\n",
        "    coefs.append(lasso.coef_)\n",
        "\n",
        "ax = plt.gca()\n",
        "ax.plot(alphas, coefs)\n",
        "ax.set_xscale('log')\n",
        "plt.axis('tight')\n",
        "plt.xlabel('alpha')\n",
        "plt.ylabel('weights')\n",
        "plt.show()"
      ]
    },
    {
      "cell_type": "markdown",
      "metadata": {
        "id": "9qbf0s6kZeS9"
      },
      "source": [
        "**QUESTION 13**\n",
        "\n",
        "Which is the most relevant variable for Lasso? Prove and justify your response in the following cell"
      ]
    },
    {
      "cell_type": "code",
      "execution_count": null,
      "metadata": {
        "id": "PalSYxCnaI7z"
      },
      "outputs": [],
      "source": []
    },
    {
      "cell_type": "markdown",
      "metadata": {
        "id": "4qQ40qDgaJau"
      },
      "source": [
        "**QUESTION 14**\n",
        "\n",
        "What is the main difference between Ridge and Lasso regression? For this setup, which is the prefered method to use? Justify your response"
      ]
    },
    {
      "cell_type": "code",
      "execution_count": null,
      "metadata": {
        "id": "Bffq5PqBaN_z"
      },
      "outputs": [],
      "source": []
    },
    {
      "cell_type": "markdown",
      "metadata": {
        "id": "hYOgVWPtB1n4"
      },
      "source": [
        "** TO CODE 4.3 **\n",
        "\n",
        "Following the previous examples, use a sklearn function to compute a multivariable least square method. Compare the coefficients obtained by the different methods."
      ]
    },
    {
      "cell_type": "code",
      "execution_count": null,
      "metadata": {
        "id": "sXA_WbFPB1n4"
      },
      "outputs": [],
      "source": []
    },
    {
      "cell_type": "markdown",
      "metadata": {
        "id": "ZVTf-c6ZB1n4"
      },
      "source": [
        "**TO CODE 4.4 **\n",
        "\n",
        "Dealing with too many variables can sometimes be counter-productive and it can be more interesting to remove some features. One way to evaluate the importance of each variable is to compute the f_test whose function is named f_regression in sklearn."
      ]
    },
    {
      "cell_type": "code",
      "execution_count": null,
      "metadata": {
        "id": "1t-uQagPB1n4"
      },
      "outputs": [],
      "source": []
    },
    {
      "cell_type": "markdown",
      "metadata": {
        "id": "NoNpLZZ0B1n4"
      },
      "source": [
        "**QUESTION 15**\n",
        "\n",
        "According to the f_test, rank each variable from the least to the most promising. Compare it with the correlation of your subset."
      ]
    },
    {
      "cell_type": "code",
      "execution_count": null,
      "metadata": {
        "id": "qeAb0V_3B1n4"
      },
      "outputs": [],
      "source": []
    }
  ],
  "metadata": {
    "colab": {
      "provenance": [],
      "toc_visible": true,
      "include_colab_link": true
    },
    "kernelspec": {
      "display_name": "Python 3",
      "language": "python",
      "name": "python3"
    },
    "language_info": {
      "codemirror_mode": {
        "name": "ipython",
        "version": 3
      },
      "file_extension": ".py",
      "mimetype": "text/x-python",
      "name": "python",
      "nbconvert_exporter": "python",
      "pygments_lexer": "ipython3",
      "version": "3.6.9"
    }
  },
  "nbformat": 4,
  "nbformat_minor": 0
}